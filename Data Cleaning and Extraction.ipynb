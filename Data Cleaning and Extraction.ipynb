{
 "cells": [
  {
   "cell_type": "code",
   "execution_count": 49,
   "id": "a2321f62-3a9b-4f51-b708-cabb5c15df8b",
   "metadata": {},
   "outputs": [],
   "source": [
    "import pandas as pd\n",
    "import numpy as np"
   ]
  },
  {
   "cell_type": "code",
   "execution_count": 50,
   "id": "b26f5dfa-9de9-4ba9-9cd9-903f7f281d72",
   "metadata": {},
   "outputs": [
    {
     "name": "stdout",
     "output_type": "stream",
     "text": [
      "       InvoiceNo StockCode                          Description  Quantity  \\\n",
      "0         536365    85123A   WHITE HANGING HEART T-LIGHT HOLDER         6   \n",
      "1         536365     71053                  WHITE METAL LANTERN         6   \n",
      "2         536365    84406B       CREAM CUPID HEARTS COAT HANGER         8   \n",
      "3         536365    84029G  KNITTED UNION FLAG HOT WATER BOTTLE         6   \n",
      "4         536365    84029E       RED WOOLLY HOTTIE WHITE HEART.         6   \n",
      "...          ...       ...                                  ...       ...   \n",
      "541904    581587     22613          PACK OF 20 SPACEBOY NAPKINS        12   \n",
      "541905    581587     22899         CHILDREN'S APRON DOLLY GIRL          6   \n",
      "541906    581587     23254        CHILDRENS CUTLERY DOLLY GIRL          4   \n",
      "541907    581587     23255      CHILDRENS CUTLERY CIRCUS PARADE         4   \n",
      "541908    581587     22138        BAKING SET 9 PIECE RETROSPOT          3   \n",
      "\n",
      "                InvoiceDate  UnitPrice  CustomerID         Country  \n",
      "0       2010-12-01 08:26:00       2.55     17850.0  United Kingdom  \n",
      "1       2010-12-01 08:26:00       3.39     17850.0  United Kingdom  \n",
      "2       2010-12-01 08:26:00       2.75     17850.0  United Kingdom  \n",
      "3       2010-12-01 08:26:00       3.39     17850.0  United Kingdom  \n",
      "4       2010-12-01 08:26:00       3.39     17850.0  United Kingdom  \n",
      "...                     ...        ...         ...             ...  \n",
      "541904  2011-12-09 12:50:00       0.85     12680.0          France  \n",
      "541905  2011-12-09 12:50:00       2.10     12680.0          France  \n",
      "541906  2011-12-09 12:50:00       4.15     12680.0          France  \n",
      "541907  2011-12-09 12:50:00       4.15     12680.0          France  \n",
      "541908  2011-12-09 12:50:00       4.95     12680.0          France  \n",
      "\n",
      "[541909 rows x 8 columns]\n"
     ]
    }
   ],
   "source": [
    "#import data into data frame\n",
    "online_retail_df = pd.read_csv('online_retail.csv')\n",
    "print(online_retail_df)\n",
    "online_retail_df_cleaned = online_retail_df.copy()"
   ]
  },
  {
   "cell_type": "code",
   "execution_count": 51,
   "id": "bc132422-4427-4e43-bd2a-6c522a12b4bd",
   "metadata": {},
   "outputs": [],
   "source": [
    "#remove duplicate rows\n",
    "online_retail_df_cleaned = online_retail_df.drop_duplicates()"
   ]
  },
  {
   "cell_type": "code",
   "execution_count": 52,
   "id": "b3854177-0c7a-41c8-9619-265ed0296936",
   "metadata": {},
   "outputs": [],
   "source": [
    "#drop rows with missing values\n",
    "online_retail_df_cleaned = online_retail_df.dropna()"
   ]
  },
  {
   "cell_type": "code",
   "execution_count": 53,
   "id": "313a154f-2ff2-436c-9bfa-ced8bdf6783a",
   "metadata": {},
   "outputs": [],
   "source": [
    "#Convert CustomerID to numeric int instead of float\n",
    "online_retail_df_cleaned.loc[:, 'CustomerID'] = pd.to_numeric(online_retail_df_cleaned['CustomerID'])\n",
    "online_retail_df_cleaned.loc[:, 'CustomerID'] = online_retail_df_cleaned['CustomerID'].astype(int)"
   ]
  },
  {
   "cell_type": "code",
   "execution_count": 54,
   "id": "025c6562-c619-41fa-b6aa-76ec47482938",
   "metadata": {},
   "outputs": [],
   "source": [
    "#Convert UnitPrice to numeric\n",
    "online_retail_df_cleaned.loc[:, 'UnitPrice'] = pd.to_numeric(online_retail_df_cleaned['UnitPrice'])"
   ]
  },
  {
   "cell_type": "code",
   "execution_count": 55,
   "id": "fffe8373-351d-4339-989a-b41a7f17869c",
   "metadata": {},
   "outputs": [],
   "source": [
    "#Convert Quantity to numeric\n",
    "online_retail_df_cleaned.loc[:, 'Quantity'] = pd.to_numeric(online_retail_df_cleaned['Quantity'])"
   ]
  },
  {
   "cell_type": "code",
   "execution_count": 58,
   "id": "b51d0cb1-182d-4c0f-8d0e-b369a3c3eaca",
   "metadata": {},
   "outputs": [],
   "source": [
    "#Convert InvoiceDate to datetime\n",
    "online_retail_df_cleaned.loc[:, 'InvoiceDate'] = pd.to_datetime(online_retail_df_cleaned['InvoiceDate'])"
   ]
  },
  {
   "cell_type": "code",
   "execution_count": 59,
   "id": "f37b8667-61da-4d87-acfd-591bc090ce02",
   "metadata": {},
   "outputs": [],
   "source": [
    "#Remove non-numeric values by converting them to NaN\n",
    "online_retail_df_cleaned['Quantity'] = pd.to_numeric(online_retail_df_cleaned['Quantity'], errors='coerce')\n",
    "\n",
    "#Drop rows with NaN values\n",
    "online_retail_df_cleaned = online_retail_df_cleaned.dropna(subset=['Quantity'])\n",
    "\n",
    "#Convert the 'value' column to integers\n",
    "online_retail_df_cleaned['Quantity'] = online_retail_df_cleaned['Quantity'].astype(int)\n",
    "\n",
    "#Filter out non-positive integers\n",
    "online_retail_df_cleaned = online_retail_df_cleaned[online_retail_df_cleaned['Quantity'] > 0]"
   ]
  },
  {
   "cell_type": "code",
   "execution_count": 60,
   "id": "ea311e71-6a7e-47f3-a953-cb7095a6284c",
   "metadata": {},
   "outputs": [],
   "source": [
    "# Replace commas with underscores\n",
    "online_retail_df_cleaned['Description'] = online_retail_df_cleaned['Description'].str.replace(',','_')"
   ]
  },
  {
   "cell_type": "code",
   "execution_count": 61,
   "id": "fc9f1e92-a5fe-4c32-b18c-f90b6829fd24",
   "metadata": {},
   "outputs": [],
   "source": [
    "#Create a new column 'Total' as the sum of 'Quantity' and 'UnitPrice'\n",
    "online_retail_df_cleaned.loc[:,'Total'] = online_retail_df_cleaned['Quantity'] * online_retail_df_cleaned['UnitPrice']"
   ]
  },
  {
   "cell_type": "code",
   "execution_count": 62,
   "id": "cc08deba-8fd2-4114-81f4-b22ffed41f9d",
   "metadata": {},
   "outputs": [],
   "source": [
    "#Reset the index of the DataFrame\n",
    "online_retail_df_cleaned = online_retail_df_cleaned.reset_index(drop=True)"
   ]
  },
  {
   "cell_type": "code",
   "execution_count": 64,
   "id": "927ff636-6fb9-4c1b-9237-960ac03743a3",
   "metadata": {},
   "outputs": [],
   "source": [
    "#Save the cleaned DataFrame to a new CSV file\n",
    "online_retail_df_cleaned.to_csv('online_retail_df_cleaned.csv', index=False)"
   ]
  },
  {
   "cell_type": "code",
   "execution_count": 65,
   "id": "eea37cb3-388b-4d85-b9f7-c7ac42a9d5ed",
   "metadata": {},
   "outputs": [
    {
     "name": "stdout",
     "output_type": "stream",
     "text": [
      "       InvoiceNo StockCode                          Description  Quantity  \\\n",
      "0         536365    85123A   WHITE HANGING HEART T-LIGHT HOLDER         6   \n",
      "1         536365     71053                  WHITE METAL LANTERN         6   \n",
      "2         536365    84406B       CREAM CUPID HEARTS COAT HANGER         8   \n",
      "3         536365    84029G  KNITTED UNION FLAG HOT WATER BOTTLE         6   \n",
      "4         536365    84029E       RED WOOLLY HOTTIE WHITE HEART.         6   \n",
      "...          ...       ...                                  ...       ...   \n",
      "397919    581587     22613          PACK OF 20 SPACEBOY NAPKINS        12   \n",
      "397920    581587     22899         CHILDREN'S APRON DOLLY GIRL          6   \n",
      "397921    581587     23254        CHILDRENS CUTLERY DOLLY GIRL          4   \n",
      "397922    581587     23255      CHILDRENS CUTLERY CIRCUS PARADE         4   \n",
      "397923    581587     22138        BAKING SET 9 PIECE RETROSPOT          3   \n",
      "\n",
      "                InvoiceDate  UnitPrice  CustomerID         Country  Total  \n",
      "0       2010-12-01 08:26:00       2.55     17850.0  United Kingdom  15.30  \n",
      "1       2010-12-01 08:26:00       3.39     17850.0  United Kingdom  20.34  \n",
      "2       2010-12-01 08:26:00       2.75     17850.0  United Kingdom  22.00  \n",
      "3       2010-12-01 08:26:00       3.39     17850.0  United Kingdom  20.34  \n",
      "4       2010-12-01 08:26:00       3.39     17850.0  United Kingdom  20.34  \n",
      "...                     ...        ...         ...             ...    ...  \n",
      "397919  2011-12-09 12:50:00       0.85     12680.0          France  10.20  \n",
      "397920  2011-12-09 12:50:00       2.10     12680.0          France  12.60  \n",
      "397921  2011-12-09 12:50:00       4.15     12680.0          France  16.60  \n",
      "397922  2011-12-09 12:50:00       4.15     12680.0          France  16.60  \n",
      "397923  2011-12-09 12:50:00       4.95     12680.0          France  14.85  \n",
      "\n",
      "[397924 rows x 9 columns]\n"
     ]
    }
   ],
   "source": [
    "print(online_retail_df_cleaned)"
   ]
  },
  {
   "cell_type": "code",
   "execution_count": 66,
   "id": "24b796ab-6402-40f5-b163-8cbcf3351373",
   "metadata": {},
   "outputs": [
    {
     "data": {
      "text/plain": [
       "<bound method DataFrame.info of        InvoiceNo StockCode                          Description  Quantity  \\\n",
       "0         536365    85123A   WHITE HANGING HEART T-LIGHT HOLDER         6   \n",
       "1         536365     71053                  WHITE METAL LANTERN         6   \n",
       "2         536365    84406B       CREAM CUPID HEARTS COAT HANGER         8   \n",
       "3         536365    84029G  KNITTED UNION FLAG HOT WATER BOTTLE         6   \n",
       "4         536365    84029E       RED WOOLLY HOTTIE WHITE HEART.         6   \n",
       "...          ...       ...                                  ...       ...   \n",
       "397919    581587     22613          PACK OF 20 SPACEBOY NAPKINS        12   \n",
       "397920    581587     22899         CHILDREN'S APRON DOLLY GIRL          6   \n",
       "397921    581587     23254        CHILDRENS CUTLERY DOLLY GIRL          4   \n",
       "397922    581587     23255      CHILDRENS CUTLERY CIRCUS PARADE         4   \n",
       "397923    581587     22138        BAKING SET 9 PIECE RETROSPOT          3   \n",
       "\n",
       "                InvoiceDate  UnitPrice  CustomerID         Country  Total  \n",
       "0       2010-12-01 08:26:00       2.55     17850.0  United Kingdom  15.30  \n",
       "1       2010-12-01 08:26:00       3.39     17850.0  United Kingdom  20.34  \n",
       "2       2010-12-01 08:26:00       2.75     17850.0  United Kingdom  22.00  \n",
       "3       2010-12-01 08:26:00       3.39     17850.0  United Kingdom  20.34  \n",
       "4       2010-12-01 08:26:00       3.39     17850.0  United Kingdom  20.34  \n",
       "...                     ...        ...         ...             ...    ...  \n",
       "397919  2011-12-09 12:50:00       0.85     12680.0          France  10.20  \n",
       "397920  2011-12-09 12:50:00       2.10     12680.0          France  12.60  \n",
       "397921  2011-12-09 12:50:00       4.15     12680.0          France  16.60  \n",
       "397922  2011-12-09 12:50:00       4.15     12680.0          France  16.60  \n",
       "397923  2011-12-09 12:50:00       4.95     12680.0          France  14.85  \n",
       "\n",
       "[397924 rows x 9 columns]>"
      ]
     },
     "execution_count": 66,
     "metadata": {},
     "output_type": "execute_result"
    }
   ],
   "source": [
    "online_retail_df_cleaned.info"
   ]
  },
  {
   "cell_type": "code",
   "execution_count": null,
   "id": "dcbbf018-0dd3-4d2f-9109-d1c61d45935e",
   "metadata": {},
   "outputs": [],
   "source": []
  }
 ],
 "metadata": {
  "kernelspec": {
   "display_name": "Python 3 (ipykernel)",
   "language": "python",
   "name": "python3"
  },
  "language_info": {
   "codemirror_mode": {
    "name": "ipython",
    "version": 3
   },
   "file_extension": ".py",
   "mimetype": "text/x-python",
   "name": "python",
   "nbconvert_exporter": "python",
   "pygments_lexer": "ipython3",
   "version": "3.11.0"
  }
 },
 "nbformat": 4,
 "nbformat_minor": 5
}
